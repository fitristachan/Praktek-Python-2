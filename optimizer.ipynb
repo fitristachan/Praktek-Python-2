{
 "cells": [
  {
   "cell_type": "code",
   "execution_count": 4,
   "metadata": {},
   "outputs": [
    {
     "name": "stdout",
     "output_type": "stream",
     "text": [
      "Highest objective function value = 42\n",
      "\n",
      "vara = 12\n",
      "varb = 2\n",
      "varc = 1\n"
     ]
    }
   ],
   "source": [
    "from ortools.linear_solver import pywraplp\n",
    "def Maximizationproblem():\n",
    " solver = pywraplp.Solver.CreateSolver('SCIP')\n",
    " vara = solver.IntVar(0.0, solver.infinity(), 'vara')\n",
    " varb = solver.IntVar(0.0, solver.infinity(), 'varb')\n",
    " varc = solver.IntVar(0.0, solver.infinity(), 'varc')\n",
    " # 3*a + 6*b + 2*c <= 50\n",
    " cons_in1 = solver.Constraint(-solver.infinity(), 50)\n",
    " cons_in1.SetCoefficient(vara, 3)\n",
    " cons_in1.SetCoefficient(varb, 6)\n",
    " cons_in1.SetCoefficient(varc, 2)\n",
    " # 4*a - 6*b + 8*c <= 45\n",
    " cons_in2 = solver.Constraint(-solver.infinity(), 45)\n",
    " cons_in2.SetCoefficient(vara, 4)\n",
    " cons_in2.SetCoefficient(varb, -6)\n",
    " cons_in2.SetCoefficient(varc, 8)\n",
    " # 3*a + b - 5*c <= 37\n",
    " cons_in3 = solver.Constraint(-solver.infinity(), 37)\n",
    " cons_in3.SetCoefficient(vara, 3)\n",
    " cons_in3.SetCoefficient(varb, 1)\n",
    " cons_in3.SetCoefficient(varc, -5)\n",
    " # [END constraints]\n",
    " # [objective segment of program]\n",
    " obj_prog = solver.Objective()\n",
    " obj_prog.SetCoefficient(vara, 3)\n",
    " obj_prog.SetCoefficient(varb, 2)\n",
    " obj_prog.SetCoefficient(varc, 2)\n",
    " obj_prog.SetMaximization()\n",
    " # Calling solver\n",
    " solver.Solve()\n",
    " # Print segment of program\n",
    " print('Highest objective function value = %d' %solver.Objective().Value())\n",
    " print()\n",
    " for variable in [vara, varb, varc]:\n",
    "    print('%s = %d' % (variable.name(), variable.solution_value()))\n",
    "Maximizationproblem()"
   ]
  }
 ],
 "metadata": {
  "kernelspec": {
   "display_name": "Python 3",
   "language": "python",
   "name": "python3"
  },
  "language_info": {
   "codemirror_mode": {
    "name": "ipython",
    "version": 3
   },
   "file_extension": ".py",
   "mimetype": "text/x-python",
   "name": "python",
   "nbconvert_exporter": "python",
   "pygments_lexer": "ipython3",
   "version": "3.11.8"
  }
 },
 "nbformat": 4,
 "nbformat_minor": 2
}
